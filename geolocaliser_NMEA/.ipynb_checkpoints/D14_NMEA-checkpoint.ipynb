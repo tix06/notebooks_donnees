{
 "cells": [
  {
   "cell_type": "markdown",
   "metadata": {},
   "source": [
    "# La trame NMEA\n",
    "## Objectifs\n",
    "Comprendre ce qu’est une trame NMEA : une suite de caractères mis dans un format particulier (normalisé) pour permettre un échange entre systèmes et logiciels. Exploiter la trame obtenue pour réaliser une carte personnalisée.\n",
    "Manipuler une chaine de caractères. Extraire des informations.\n",
    "\n",
    "## Principe \n",
    "Lorsqu’un récepteur GPS reçoit une information, il la transmet (au smartphone, à l’ordinateur auquel il est connecté, à l’interface gps de voiture) à l’aide d’une « phrase » dont la forme est strictement codifiée. On appelle cette « phrase » une trame.\n",
    "\n",
    "## Recuperer votre propre trame NMEA\n",
    "Travail personnel en amont : Si possible, installer l’application NMEA Tools sur votre smartphone sur Androïd ou NMEAGps sur iOS.\n",
    "Selon le mobile utilisé, pour enregistrer une série de trames GPS, il faut faire : \n",
    "- Sur Android : *enregistrement* pour démarrer > attendre quelques secondes que le signal se stabilise > *enregistrement* pour arrêter > Choisir *Enregistrer* puis nommer le fichier votre_nom.txt\n",
    "- Sur IOS iphone : attendre que la barre de détection de la position passe au vert puis > Bouton *log* en position *ON* pour démarrer > attendre quelques secondes que le signal soit enregistré > *log* pour arrêter > L’application propose alors de récupérer un fichier nmea.log dans une application (notes, ...) ou de le *partager*.\n",
    "\n",
    "\n",
    "## Que contient la trame NMEA ?\n",
    "Parmi les différentes lignes constituant la trame, l'une d'entre elles débute par les symboles $GPGGA\n",
    "\n",
    "Les données sont mises dans un format particulier expliqué ici : \n",
    "\n",
    "![trame NMEA](exemple_trame.png)\n",
    "\n",
    "\n",
    "<TABLE width=100% border=0>\n",
    "<TR> \n",
    "<TD width=15%>$GPGGA</TD> \n",
    "<TD width=2%>:</TD> \n",
    "<TD>Type de trame</TD>\n",
    "</TR> \n",
    "<TR> \n",
    "<TD width=15%>4836.5375,N</TD> \n",
    "<TD width=2%>:</TD> \n",
    "<TD>Latitude 48,608958° Nord = 48°36'32.25\" Nord</TD>\n",
    "</TR> \n",
    "<TR> \n",
    "<TD width=15%></TD> \n",
    "<TD width=2%></TD>\n",
    "<TD>car le renseignement donné initialement est sous la forme ddmm.mmmm soit : 48°36,5375’</TD>\n",
    "</TR> \n",
    "<TR> \n",
    "<TD width=15%></TD> \n",
    "<TD width=2%></TD>\n",
    "<TD>en base 10 : 36,5375’ = 36,5375 / 60 ° = 0,608958 °</TD>\n",
    "</TR> \n",
    "<TD width=15%></TD> \n",
    "<TD width=2%></TD>\n",
    "<TD>en base 60 : 36,5375’ = 36’ + 0,5375 x 60’’ = 36'32.25\"</TD>\n",
    "</TR>\n",
    "<TR> \n",
    "<TD width=15%>00740.9373,E</TD> \n",
    "<TD width=2%>:</TD> \n",
    "<TD>Longitude 7,682288° Est = 7°40'56.238\" Est</TD>\n",
    "</TR> \n",
    "</TABLE></CENTER>\n"
   ]
  },
  {
   "cell_type": "markdown",
   "metadata": {},
   "source": [
    "## Travail\n",
    "Au choix : \n",
    "- vous utilisez la trame NMEA fournie dans votre dossier notebooks\n",
    "- vous enregistrez votre propre trame NMEA dans votre dossier notebooks : pensez alors à modifier le nom du fichier à l'ouverture (programme python)\n",
    "\n",
    "Puis : **executer la cellule suivante et repérer la trame $GPGGA que vous allez exploiter**\n",
    "\n"
   ]
  },
  {
   "cell_type": "code",
   "execution_count": 7,
   "metadata": {},
   "outputs": [
    {
     "name": "stdout",
     "output_type": "stream",
     "text": [
      "ligne[0] \n",
      "$GPGSA,A,3,01,02,03,04,05,06,07,08,09,10,11,12,2.3,2.0,1.2*31\n",
      "\n",
      "ligne[1] \n",
      "$GPGSV,3,1,12,01,45,045,50,02,45,045,50,03,45,045,50,04,45,045,50*7c\n",
      "\n",
      "ligne[2] \n",
      "$GPGSV,3,2,12,05,45,045,50,06,45,045,50,07,45,045,50,08,45,045,50*77\n",
      "\n",
      "ligne[3] \n",
      "$GPGSV,3,3,12,09,45,045,50,10,45,045,50,11,45,045,50,12,45,045,50*71\n",
      "\n",
      "ligne[4] \n",
      "$GPRMC,164529.99,A,4342.7024,N,716.1823,E,1.0,191.2,061019,0.0,E,A*35\n",
      "\n",
      "ligne[5] \n",
      "$GPVTG,191.2,T,0.0,M,1.0,N,1.9,K*4c\n",
      "\n",
      "ligne[6] \n",
      "$GPGGA,164529.99,4342.7024,N,00716.1823,E,12,12,2.0,38.8,M,0.0,M,0.0,0000*77\n",
      "\n",
      "ligne[7] \n",
      "$GPGSA,A,3,01,02,03,04,05,06,07,08,09,10,11,12,2.3,2.0,1.2*31\n",
      "\n",
      "ligne[8] \n",
      "$GPGSV,3,1,12,01,45,045,50,02,45,045,50,03,45,045,50,04,45,045,50*7c\n",
      "\n",
      "ligne[9] \n",
      "$GPGSV,3,2,12,05,45,045,50,06,45,045,50,07,45,045,50,08,45,045,50*77\n",
      "\n",
      "ligne[10] \n",
      "$GPGSV,3,3,12,09,45,045,50,10,45,045,50,11,45,045,50,12,45,045,50*71\n",
      "\n",
      "ligne[11] \n",
      "$GPRMC,164530.99,A,4342.7016,N,716.1817,E,0.4,201.1,061019,0.0,E,A*37\n",
      "\n",
      "ligne[12] \n",
      "$GPVTG,201.1,T,0.0,M,0.4,N,0.8,K*40\n",
      "\n",
      "ligne[13] \n",
      "$GPGGA,164530.99,4342.7016,N,00716.1817,E,12,12,2.0,38.5,M,0.0,M,0.0,0000*74\n",
      "\n",
      "ligne[14] \n",
      "$GPGSA,A,3,01,02,03,04,05,06,07,08,09,10,11,12,2.3,2.0,1.2*31\n",
      "\n",
      "ligne[15] \n",
      "$GPGSV,3,1,12,01,45,045,50,02,45,045,50,03,45,045,50,04,45,045,50*7c\n",
      "\n",
      "ligne[16] \n",
      "$GPGSV,3,2,12,05,45,045,50,06,45,045,50,07,45,045,50,08,45,045,50*77\n",
      "\n",
      "ligne[17] \n",
      "$GPGSV,3,3,12,09,45,045,50,10,45,045,50,11,45,045,50,12,45,045,50*71\n",
      "\n",
      "ligne[18] \n",
      "$GPRMC,164531.99,A,4342.7010,N,716.1812,E,0.4,223.2,061019,0.0,E,A*36\n",
      "\n",
      "ligne[19] \n",
      "$GPVTG,223.2,T,0.0,M,0.4,N,0.8,K*43\n",
      "\n",
      "ligne[20] \n",
      "$GPGGA,164531.99,4342.7010,N,00716.1812,E,12,12,2.0,38.3,M,0.0,M,0.0,0000*70\n",
      "\n",
      "ligne[21] \n",
      "$GPGSA,A,3,01,02,03,04,05,06,07,08,09,10,11,12,2.3,2.0,1.2*31\n",
      "\n",
      "ligne[22] \n",
      "$GPGSV,3,1,12,01,45,045,50,02,45,045,50,03,45,045,50,04,45,045,50*7c\n",
      "\n",
      "ligne[23] \n",
      "$GPGSV,3,2,12,05,45,045,50,06,45,045,50,07,45,045,50,08,45,045,50*77\n",
      "\n",
      "ligne[24] \n",
      "$GPGSV,3,3,12,09,45,045,50,10,45,045,50,11,45,045,50,12,45,045,50*71\n",
      "\n",
      "ligne[25] \n",
      "$GPRMC,164532.99,A,4342.7003,N,716.1805,E,1.4,233.8,061019,0.0,E,A*3b\n",
      "\n",
      "ligne[26] \n",
      "$GPVTG,233.8,T,0.0,M,1.4,N,2.5,K*46\n",
      "\n",
      "ligne[27] \n",
      "$GPGGA,164532.99,4342.7003,N,00716.1805,E,12,12,2.0,38.1,M,0.0,M,0.0,0000*75\n",
      "\n",
      "ligne[28] \n",
      "$GPGSA,A,3,01,02,03,04,05,06,07,08,09,10,11,12,2.3,2.0,1.2*31\n",
      "\n",
      "ligne[29] \n",
      "$GPGSV,3,1,12,01,45,045,50,02,45,045,50,03,45,045,50,04,45,045,50*7c\n",
      "\n",
      "ligne[30] \n",
      "$GPGSV,3,2,12,05,45,045,50,06,45,045,50,07,45,045,50,08,45,045,50*77\n",
      "\n",
      "ligne[31] \n",
      "$GPGSV,3,3,12,09,45,045,50,10,45,045,50,11,45,045,50,12,45,045,50*71\n",
      "\n",
      "ligne[32] \n",
      "$GPRMC,164533.99,A,4342.6994,N,716.1798,E,1.4,213.4,061019,0.0,E,A*39\n",
      "\n",
      "ligne[33] \n",
      "$GPVTG,213.4,T,0.0,M,1.4,N,2.5,K*48\n",
      "\n",
      "ligne[34] \n",
      "$GPGGA,164533.99,4342.6994,N,00716.1798,E,12,12,2.0,38.0,M,0.0,M,0.0,0000*78\n",
      "\n",
      "ligne[35] \n",
      "$GPGSA,A,3,01,02,03,04,05,06,07,08,09,10,11,12,2.3,2.0,1.2*31\n",
      "\n",
      "ligne[36] \n",
      "$GPGSV,3,1,12,01,45,045,50,02,45,045,50,03,45,045,50,04,45,045,50*7c\n",
      "\n",
      "ligne[37] \n",
      "$GPGSV,3,2,12,05,45,045,50,06,45,045,50,07,45,045,50,08,45,045,50*77\n",
      "\n",
      "ligne[38] \n",
      "$GPGSV,3,3,12,09,45,045,50,10,45,045,50,11,45,045,50,12,45,045,50*71\n",
      "\n",
      "ligne[39] \n",
      "$GPRMC,164534.99,A,4342.6984,N,716.1795,E,1.9,195.1,061019,0.0,E,A*37\n",
      "\n",
      "ligne[40] \n",
      "$GPVTG,195.1,T,0.0,M,1.9,N,3.5,K*4c\n",
      "\n",
      "ligne[41] \n",
      "$GPGGA,164534.99,4342.6984,N,00716.1795,E,12,12,2.0,37.8,M,0.0,M,0.0,0000*74\n",
      "\n",
      "ligne[42] \n",
      "$GPGSA,A,3,01,02,03,04,05,06,07,08,09,10,11,12,2.3,2.0,1.2*31\n",
      "\n",
      "ligne[43] \n",
      "$GPGSV,3,1,12,01,45,045,50,02,45,045,50,03,45,045,50,04,45,045,50*7c\n",
      "\n",
      "ligne[44] \n",
      "$GPGSV,3,2,12,05,45,045,50,06,45,045,50,07,45,045,50,08,45,045,50*77\n",
      "\n",
      "ligne[45] \n",
      "$GPGSV,3,3,12,09,45,045,50,10,45,045,50,11,45,045,50,12,45,045,50*71\n",
      "\n",
      "ligne[46] \n",
      "$GPRMC,164535.99,A,4342.6976,N,716.1796,E,1.7,174.4,061019,0.0,E,A*3c\n",
      "\n",
      "ligne[47] \n",
      "$GPVTG,174.4,T,0.0,M,1.7,N,3.2,K*4f\n",
      "\n",
      "ligne[48] \n",
      "$GPGGA,164535.99,4342.6976,N,00716.1796,E,12,12,2.0,37.7,M,0.0,M,0.0,0000*74\n",
      "\n",
      "ligne[49] \n",
      "$GPGSA,A,3,01,02,03,04,05,06,07,08,09,10,11,12,2.3,2.0,1.2*31\n",
      "\n",
      "ligne[50] \n",
      "$GPGSV,3,1,12,01,45,045,50,02,45,045,50,03,45,045,50,04,45,045,50*7c\n",
      "\n",
      "ligne[51] \n",
      "$GPGSV,3,2,12,05,45,045,50,06,45,045,50,07,45,045,50,08,45,045,50*77\n",
      "\n",
      "ligne[52] \n",
      "$GPGSV,3,3,12,09,45,045,50,10,45,045,50,11,45,045,50,12,45,045,50*71\n",
      "\n",
      "ligne[53] \n",
      "$GPRMC,164536.99,A,4342.6973,N,716.1800,E,1.7,174.4,061019,0.0,E,A*3a\n",
      "\n",
      "ligne[54] \n",
      "$GPVTG,174.4,T,0.0,M,1.7,N,3.2,K*4f\n",
      "\n",
      "ligne[55] \n",
      "$GPGGA,164536.99,4342.6973,N,00716.1800,E,12,12,2.0,37.8,M,0.0,M,0.0,0000*7d\n",
      "\n"
     ]
    }
   ],
   "source": [
    "fichier = open('nmea.log','r')\n",
    "\n",
    "lignes = fichier.readlines() \n",
    "     \n",
    "for i,ligne in enumerate(lignes):\n",
    "                  \n",
    "    if ligne !='\\n':  #  tester si la ligne est non vide\n",
    "        print('ligne['+ str(i)+'] \\n'+ ligne)             \n",
    "                 \n",
    "fichier.close()                    \n"
   ]
  },
  {
   "cell_type": "markdown",
   "metadata": {},
   "source": [
    "## sélectionner des caractères \n",
    "Une chaine de caractère peut être manipulée comme une liste en python. Ainsi, chaque caractère occupe un rang. Le premier caractère est le rang zero 0.\n",
    "\n",
    "Pour extraire une série de caractères d'une variable, on ajoute [rang debut : rang fin+1] à la suite du nom de cette variable.\n",
    "\n",
    "Par exemple : Pour extraire le nom 'boby' de la chaine `titre = 'boby joe roi des mers'`, on fait : \n",
    "titre[0:4]\n",
    "\n",
    "Testez le : \n",
    "- executez la cellule suivante\n",
    "- puis modifiez la pour extraire 'joe' "
   ]
  },
  {
   "cell_type": "code",
   "execution_count": 4,
   "metadata": {},
   "outputs": [
    {
     "data": {
      "text/plain": [
       "'boby'"
      ]
     },
     "execution_count": 4,
     "metadata": {},
     "output_type": "execute_result"
    }
   ],
   "source": [
    "titre = 'boby joe roi des mers'\n",
    "titre[0:4]"
   ]
  },
  {
   "cell_type": "markdown",
   "metadata": {},
   "source": [
    "## sélectionner les caractères de positionnement\n",
    "dans la ligne que vous avez repérée, calculer le rang des caractères que vous souhaitez extraire pour la latitude (N) et pour la longitude (E). On rappelle que le premier caractère `$` a le rang zero 0, le suivant `G` le rang 1, etc...\n",
    "\n",
    "Ainsi, pour extraire l'heure de la ligne 6, on fait : "
   ]
  },
  {
   "cell_type": "code",
   "execution_count": 13,
   "metadata": {
    "collapsed": true
   },
   "outputs": [
    {
     "name": "stdout",
     "output_type": "stream",
     "text": [
      "ligne entiere : \n",
      " $GPGGA,164529.99,4342.7024,N,00716.1823,E,12,12,2.0,38.8,M,0.0,M,0.0,0000*77\n",
      "\n",
      "heure : \n",
      " 164529.99\n"
     ]
    }
   ],
   "source": [
    "print('ligne entiere : \\n',lignes[6])\n",
    "print('heure : \\n', lignes[6][7:16])"
   ]
  },
  {
   "cell_type": "markdown",
   "metadata": {},
   "source": [
    "## Travail \n",
    "- extraire les données de latitude à l'aide de l'intruction python correspondante. Mettre dans la variable `lat`\n",
    "- extraire les données correspondant aux degrés (entiers) avec la même méthode (les 2 premiers caractères) : mettre dans la variable `lat_deg` \n",
    "- extraire les données correspondant aux minutes d'angle de cette chaine de caractères avec la même méthode : mettre dans la variable `lat_min` \n",
    "- convertir `lat_deg` et `lat_min` en un nombre à virgule (conversion en type float) : `lat_min = float(lat_min)` \n",
    "- transformer `lat_min` en une valeur décimale (diviser par 60)\n",
    "- affecter alors à la variable `lat` la nouvelle valeur `lat_deg + lat_min`\n",
    "\n",
    "Faire le même travail pour la longitude"
   ]
  },
  {
   "cell_type": "code",
   "execution_count": null,
   "metadata": {},
   "outputs": [],
   "source": []
  },
  {
   "cell_type": "markdown",
   "metadata": {},
   "source": [
    "## Vérification\n",
    "Pensez à vérifier vos résultats en affichant avec `print()` les valeurs de chacune des variables (lat, lon, lat_deg, lat_min...)\n",
    "\n",
    "Lorsque vous êtes satisfaits du résultat, executez la cellule suivante pour afficher un marqueur sur la carte, qui sera géolocalisé à partir de votre latitude et longitude..."
   ]
  },
  {
   "cell_type": "code",
   "execution_count": 31,
   "metadata": {
    "collapsed": true
   },
   "outputs": [
    {
     "data": {
      "text/html": [
       "<div style=\"width:100%;\"><div style=\"position:relative;width:100%;height:0;padding-bottom:60%;\"><iframe src=\"data:text/html;charset=utf-8;base64,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\" style=\"position:absolute;width:100%;height:100%;left:0;top:0;border:none !important;\" allowfullscreen webkitallowfullscreen mozallowfullscreen></iframe></div></div>"
      ],
      "text/plain": [
       "<folium.folium.Map at 0x1066d8e48>"
      ]
     },
     "metadata": {},
     "output_type": "display_data"
    }
   ],
   "source": [
    "#!pip install folium\n",
    "import folium\n",
    "carte = folium.Map(location=[0,0], zoom_start=2)\n",
    "folium.Marker([lat,lon]).add_to(carte)\n",
    "display(carte)"
   ]
  },
  {
   "cell_type": "code",
   "execution_count": null,
   "metadata": {},
   "outputs": [],
   "source": []
  }
 ],
 "metadata": {
  "kernelspec": {
   "display_name": "Python 3",
   "language": "python",
   "name": "python3"
  },
  "language_info": {
   "codemirror_mode": {
    "name": "ipython",
    "version": 3
   },
   "file_extension": ".py",
   "mimetype": "text/x-python",
   "name": "python",
   "nbconvert_exporter": "python",
   "pygments_lexer": "ipython3",
   "version": "3.7.1"
  }
 },
 "nbformat": 4,
 "nbformat_minor": 2
}
