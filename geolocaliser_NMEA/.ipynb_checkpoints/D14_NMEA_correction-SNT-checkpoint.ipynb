{
 "cells": [
  {
   "cell_type": "markdown",
   "metadata": {},
   "source": [
    "# La trame NMEA\n",
    "## Objectifs\n",
    "Comprendre ce qu’est une trame NMEA : une suite de caractères mis dans un format particulier (normalisé) pour permettre un échange entre systèmes et logiciels. Exploiter la trame obtenue pour réaliser une carte personnalisée.\n",
    "Manipuler une chaine de caractères. Extraire des informations.\n",
    "\n",
    "## Principe \n",
    "Lorsqu’un récepteur GPS reçoit une information, il la transmet (au smartphone, à l’ordinateur auquel il est connecté, à l’interface gps de voiture) à l’aide d’une « phrase » dont la forme est strictement codifiée. On appelle cette « phrase » une trame.\n",
    "\n",
    "![système et trame GPS](satellites.png)\n",
    "\n",
    "## Recuperer votre propre trame NMEA (partie qui ne sera pas traitée pendant la séance)\n",
    "Travail personnel en amont : Si possible, installer l’application NMEA Tools sur votre smartphone sur Androïd ou NMEAGps sur iOS.\n",
    "Selon le mobile utilisé, pour enregistrer une série de trames GPS, il faut faire : \n",
    "- Sur Android : *enregistrement* pour démarrer > attendre quelques secondes que le signal se stabilise > *enregistrement* pour arrêter > Choisir *Enregistrer* puis nommer le fichier votre_nom.txt\n",
    "- Sur IOS iphone : attendre que la barre de détection de la position passe au vert puis > Bouton *log* en position *ON* pour démarrer > attendre quelques secondes que le signal soit enregistré > *log* pour arrêter > L’application propose alors de récupérer un fichier nmea.log dans une application (notes, ...) ou de le *partager*.\n",
    "\n",
    "\n",
    "## Que contient la trame NMEA ?\n",
    "Parmi les différentes lignes constituant la trame, l'une d'entre elles débute par les symboles $GPGGA\n",
    "\n",
    "Les données sont mises dans un format particulier expliqué ici : \n",
    "\n",
    "![trame NMEA](exemple_trame.png)\n",
    "\n",
    "\n",
    "\n",
    "**Remarque importante sur le format numérique :**\n",
    "\n",
    "La valeur numérique recherchée est celle de la latitude et de la longitude du lieu : \n",
    "\n",
    "![detail NMEA](detailNMEA.png)\n",
    "\n",
    "Ces valeurs sont mises sous la forme **DDMM.MMMM** : \n",
    "\n",
    "lorsque l'on lit 4836.5375, la valeur doit être comprise comme  : 48°36,5375'\n",
    "\n",
    "c'est à dire : \n",
    "- 48°\n",
    "- 36,5375 minutes d'arc\n",
    "\n",
    "en base 10 : 36.5375’ = 36.5375 / 60 ° = 0.608958 °\n",
    "\n",
    "La valeur correspondante est alors 48.608958°\n",
    "\n",
    "Cette conversion sera réalisée par la fonction `conversion_base10()` "
   ]
  },
  {
   "cell_type": "code",
   "execution_count": 9,
   "metadata": {},
   "outputs": [],
   "source": [
    "def conversion_base10(latlon):\n",
    "    l = float(latlon)/100\n",
    "    l_deg = int(l)\n",
    "    l_min = l - l_deg\n",
    "    l_min = l_min*100/60\n",
    "    l = l_deg + l_min\n",
    "    return l"
   ]
  },
  {
   "cell_type": "markdown",
   "metadata": {},
   "source": [
    "## Travail\n",
    "\n",
    "la trame NMEA est fournie dans votre dossier notebooks. Celle ci a été capturée par votre professeur, qui l'a intégrée dans votre dossier notebooks\n",
    "\n",
    "### lecture du fichier nmea.log\n",
    "- **executer la cellule suivante** \n",
    "- Repérer la première ligne qui commence par `$GPGGA` et noter le numéro de ligne\n",
    "\n"
   ]
  },
  {
   "cell_type": "code",
   "execution_count": 2,
   "metadata": {},
   "outputs": [
    {
     "name": "stdout",
     "output_type": "stream",
     "text": [
      "lignes[0] \n",
      "$GPGSA,A,3,01,02,03,04,05,06,07,08,09,10,11,12,2.2,2.0,0.8*3b\n",
      "\n",
      "lignes[1] \n",
      "$GPGSV,3,1,12,01,45,045,50,02,45,045,50,03,45,045,50,04,45,045,50*7c\n",
      "\n",
      "lignes[2] \n",
      "$GPGSV,3,2,12,05,45,045,50,06,45,045,50,07,45,045,50,08,45,045,50*77\n",
      "\n",
      "lignes[3] \n",
      "$GPGSV,3,3,12,09,45,045,50,10,45,045,50,11,45,045,50,12,45,045,50*71\n",
      "\n",
      "lignes[4] \n",
      "$GPRMC,111038.00,A,4341.9791,N,714.9095,E,0.0,233.7,071019,0.0,E,A*37\n",
      "\n",
      "lignes[5] \n",
      "$GPVTG,233.7,T,0.0,M,0.0,N,0.0,K*4b\n",
      "\n",
      "lignes[6] \n",
      "$GPGGA,111038.00,4341.9791,N,00714.9095,E,12,12,2.0,38.8,M,0.0,M,0.0,0000*7b\n",
      "\n",
      "lignes[7] \n",
      "$GPGSA,A,3,01,02,03,04,05,06,07,08,09,10,11,12,2.2,2.0,0.8*3b\n",
      "\n",
      "lignes[8] \n",
      "$GPGSV,3,1,12,01,45,045,50,02,45,045,50,03,45,045,50,04,45,045,50*7c\n",
      "\n",
      "lignes[9] \n",
      "$GPGSV,3,2,12,05,45,045,50,06,45,045,50,07,45,045,50,08,45,045,50*77\n",
      "\n",
      "lignes[10] \n",
      "$GPGSV,3,3,12,09,45,045,50,10,45,045,50,11,45,045,50,12,45,045,50*71\n",
      "\n",
      "lignes[11] \n",
      "$GPRMC,111039.00,A,4341.9809,N,714.9067,E,0.0,233.7,071019,0.0,E,A*35\n",
      "\n",
      "lignes[12] \n",
      "$GPVTG,233.7,T,0.0,M,0.0,N,0.0,K*4b\n",
      "\n",
      "lignes[13] \n",
      "$GPGGA,111039.00,4341.9809,N,00714.9067,E,12,12,2.0,38.6,M,0.0,M,0.0,0000*77\n",
      "\n",
      "lignes[14] \n",
      "$GPGSA,A,3,01,02,03,04,05,06,07,08,09,10,11,12,2.2,2.0,0.8*3b\n",
      "\n",
      "lignes[15] \n",
      "$GPGSV,3,1,12,01,45,045,50,02,45,045,50,03,45,045,50,04,45,045,50*7c\n",
      "\n",
      "lignes[16] \n",
      "$GPGSV,3,2,12,05,45,045,50,06,45,045,50,07,45,045,50,08,45,045,50*77\n",
      "\n",
      "lignes[17] \n",
      "$GPGSV,3,3,12,09,45,045,50,10,45,045,50,11,45,045,50,12,45,045,50*71\n",
      "\n",
      "lignes[18] \n",
      "$GPRMC,111040.00,A,4341.9809,N,714.9067,E,0.0,234.8,071019,0.0,E,A*33\n",
      "\n",
      "lignes[19] \n",
      "$GPVTG,234.8,T,0.0,M,0.0,N,0.0,K*43\n",
      "\n",
      "lignes[20] \n",
      "$GPGGA,111040.00,4341.9809,N,00714.9067,E,12,12,2.0,38.7,M,0.0,M,0.0,0000*78\n",
      "\n",
      "lignes[21] \n",
      "$GPGSA,A,3,01,02,03,04,05,06,07,08,09,10,11,12,2.2,2.0,0.8*3b\n",
      "\n",
      "lignes[22] \n",
      "$GPGSV,3,1,12,01,45,045,50,02,45,045,50,03,45,045,50,04,45,045,50*7c\n",
      "\n",
      "lignes[23] \n",
      "$GPGSV,3,2,12,05,45,045,50,06,45,045,50,07,45,045,50,08,45,045,50*77\n",
      "\n",
      "lignes[24] \n",
      "$GPGSV,3,3,12,09,45,045,50,10,45,045,50,11,45,045,50,12,45,045,50*71\n",
      "\n",
      "lignes[25] \n",
      "$GPRMC,111041.00,A,4341.9809,N,714.9061,E,0.3,313.6,071019,0.0,E,A*3d\n",
      "\n",
      "lignes[26] \n",
      "$GPVTG,313.6,T,0.0,M,0.3,N,0.6,K*4c\n",
      "\n",
      "lignes[27] \n",
      "$GPGGA,111041.00,4341.9809,N,00714.9061,E,12,12,2.0,38.1,M,0.0,M,0.0,0000*79\n",
      "\n",
      "lignes[28] \n",
      "$GPGSA,A,3,01,02,03,04,05,06,07,08,09,10,11,12,2.2,2.0,0.8*3b\n",
      "\n",
      "lignes[29] \n",
      "$GPGSV,3,1,12,01,45,045,50,02,45,045,50,03,45,045,50,04,45,045,50*7c\n",
      "\n",
      "lignes[30] \n",
      "$GPGSV,3,2,12,05,45,045,50,06,45,045,50,07,45,045,50,08,45,045,50*77\n",
      "\n",
      "lignes[31] \n",
      "$GPGSV,3,3,12,09,45,045,50,10,45,045,50,11,45,045,50,12,45,045,50*71\n",
      "\n",
      "lignes[32] \n",
      "$GPRMC,111042.00,A,4341.9809,N,714.9061,E,0.0,313.6,071019,0.0,E,A*3d\n",
      "\n",
      "lignes[33] \n",
      "$GPVTG,313.6,T,0.0,M,0.0,N,0.0,K*49\n",
      "\n",
      "lignes[34] \n",
      "$GPGGA,111042.00,4341.9809,N,00714.9061,E,12,12,2.0,36.8,M,0.0,M,0.0,0000*7d\n",
      "\n",
      "lignes[35] \n",
      "$GPGSA,A,3,01,02,03,04,05,06,07,08,09,10,11,12,2.2,2.0,0.8*3b\n",
      "\n",
      "lignes[36] \n",
      "$GPGSV,3,1,12,01,45,045,50,02,45,045,50,03,45,045,50,04,45,045,50*7c\n",
      "\n",
      "lignes[37] \n",
      "$GPGSV,3,2,12,05,45,045,50,06,45,045,50,07,45,045,50,08,45,045,50*77\n",
      "\n",
      "lignes[38] \n",
      "$GPGSV,3,3,12,09,45,045,50,10,45,045,50,11,45,045,50,12,45,045,50*71\n",
      "\n",
      "lignes[39] \n",
      "$GPRMC,111043.00,A,4341.9809,N,714.9061,E,0.0,313.6,071019,0.0,E,A*3c\n",
      "\n",
      "lignes[40] \n",
      "$GPVTG,313.6,T,0.0,M,0.0,N,0.0,K*49\n",
      "\n",
      "lignes[41] \n",
      "$GPGGA,111043.00,4341.9809,N,00714.9061,E,12,12,2.0,36.0,M,0.0,M,0.0,0000*74\n",
      "\n",
      "lignes[42] \n",
      "$GPGSA,A,3,01,02,03,04,05,06,07,08,09,10,11,12,2.2,2.0,0.8*3b\n",
      "\n",
      "lignes[43] \n",
      "$GPGSV,3,1,12,01,45,045,50,02,45,045,50,03,45,045,50,04,45,045,50*7c\n",
      "\n",
      "lignes[44] \n",
      "$GPGSV,3,2,12,05,45,045,50,06,45,045,50,07,45,045,50,08,45,045,50*77\n",
      "\n",
      "lignes[45] \n",
      "$GPGSV,3,3,12,09,45,045,50,10,45,045,50,11,45,045,50,12,45,045,50*71\n",
      "\n",
      "lignes[46] \n",
      "$GPRMC,111044.00,A,4341.9809,N,714.9061,E,0.0,313.6,071019,0.0,E,A*3b\n",
      "\n",
      "lignes[47] \n",
      "$GPVTG,313.6,T,0.0,M,0.0,N,0.0,K*49\n",
      "\n",
      "lignes[48] \n",
      "$GPGGA,111044.00,4341.9809,N,00714.9061,E,12,12,2.0,36.1,M,0.0,M,0.0,0000*72\n",
      "\n"
     ]
    }
   ],
   "source": [
    "fichier = open('nmea.log','r')\n",
    "\n",
    "lignes = fichier.readlines() \n",
    "     \n",
    "for i,ligne in enumerate(lignes):\n",
    "                  \n",
    "    if ligne !='\\n':  #  tester si la ligne est non vide\n",
    "        print('lignes['+ str(i)+'] \\n'+ ligne)             \n",
    "                 \n",
    "fichier.close()                    \n"
   ]
  },
  {
   "cell_type": "markdown",
   "metadata": {},
   "source": [
    "- créer une variable `i` qui contiendra le numéro de la ligne"
   ]
  },
  {
   "cell_type": "code",
   "execution_count": 4,
   "metadata": {},
   "outputs": [],
   "source": [
    "i = 6"
   ]
  },
  {
   "cell_type": "markdown",
   "metadata": {},
   "source": [
    "- afficher la ligne extraite de la trame NMEA : `print(lignes[i])` \n",
    "- affecter `lignes[i]` à la variable `trame`"
   ]
  },
  {
   "cell_type": "code",
   "execution_count": 6,
   "metadata": {},
   "outputs": [
    {
     "name": "stdout",
     "output_type": "stream",
     "text": [
      "$GPGGA,111038.00,4341.9791,N,00714.9095,E,12,12,2.0,38.8,M,0.0,M,0.0,0000*7b\n",
      "\n"
     ]
    }
   ],
   "source": [
    "print(lignes[i])\n",
    "trame = lignes[i]"
   ]
  },
  {
   "cell_type": "markdown",
   "metadata": {},
   "source": [
    "### sélectionner des caractères \n",
    "Une chaine de caractère peut être manipulée comme une liste en python. Ainsi, chaque caractère occupe un rang. Le premier caractère est le rang zero 0.\n",
    "\n",
    "Pour extraire une série de caractères d'une variable, on ajoute [rang debut : rang fin+1] à la suite du nom de cette variable.\n",
    "\n",
    "Par exemple : Pour extraire le nom 'boby' de la chaine `titre = 'boby joe roi des mers'`, on fait : \n",
    "titre[0:4]\n",
    "\n",
    "Testez le : \n",
    "- executez la cellule suivante\n",
    "- puis extraire 'joe' de la chaine `titre` en écrivant `print(titre[rang debut : rang fin+1]` (remplacer rang debut : rang fin+1 par des valeurs numériques)"
   ]
  },
  {
   "cell_type": "code",
   "execution_count": 1,
   "metadata": {},
   "outputs": [],
   "source": [
    "titre = 'boby joe roi des mers'\n",
    "print(titre[])"
   ]
  },
  {
   "cell_type": "markdown",
   "metadata": {},
   "source": [
    "### sélectionner les caractères de positionnement\n",
    "- afficher la variable `trame`\n",
    "dans la ligne que vous avez repérée, calculer le rang des caractères que vous souhaitez extraire pour la latitude (N) et pour la longitude (E). On rappelle que le premier caractère `$` a le rang zero 0, le suivant `G` le rang 1, etc...\n",
    "\n"
   ]
  },
  {
   "cell_type": "markdown",
   "metadata": {},
   "source": [
    "pour extraire l\\'heure de la variable `trame` , on fait : `trame[7:16]` \n",
    "- Testez le dans la cellule suivante : (executer la cellule)"
   ]
  },
  {
   "cell_type": "code",
   "execution_count": null,
   "metadata": {},
   "outputs": [],
   "source": [
    "trame[7:16]"
   ]
  },
  {
   "cell_type": "markdown",
   "metadata": {},
   "source": [
    "Procéder de la même manière pour extraire les 9 caractères de la latitude contenus dans cette trame (43.....91) : "
   ]
  },
  {
   "cell_type": "code",
   "execution_count": 8,
   "metadata": {},
   "outputs": [
    {
     "data": {
      "text/plain": [
       "'4341.9791'"
      ]
     },
     "execution_count": 8,
     "metadata": {},
     "output_type": "execute_result"
    }
   ],
   "source": [
    "trame[17:26]"
   ]
  },
  {
   "cell_type": "markdown",
   "metadata": {},
   "source": [
    "- affecter alors ce resultat à la variable `latitude` "
   ]
  },
  {
   "cell_type": "code",
   "execution_count": 10,
   "metadata": {},
   "outputs": [],
   "source": []
  },
  {
   "cell_type": "markdown",
   "metadata": {},
   "source": [
    "## utiliser la fonction conversion_base10\n",
    "Le format de la variable latitude ne permet pas de l'utiliser pour la géolocalisation. Il faut le transformer avec la fonction `conversion_base10(latitude)` chargée plus haut.\n",
    "Executer la cellule suivante pour affecter le résultat du calcul par cette fonction à la variable `lat` et afficher la valeur de `lat`: "
   ]
  },
  {
   "cell_type": "code",
   "execution_count": 12,
   "metadata": {},
   "outputs": [
    {
     "name": "stdout",
     "output_type": "stream",
     "text": [
      "43.69965166666666\n"
     ]
    }
   ],
   "source": [
    "lat = conversion_base10(latitude)\n",
    "print(lat)"
   ]
  },
  {
   "cell_type": "markdown",
   "metadata": {},
   "source": [
    "Que remarquez vous à propos de cette nouvelle valeur ? Est elle exactement identique à la variable `latitude` ? Quelles sont les différences ? (repondre directement dans la cellule suivante)"
   ]
  },
  {
   "cell_type": "markdown",
   "metadata": {},
   "source": []
  },
  {
   "cell_type": "markdown",
   "metadata": {},
   "source": [
    "### Traitement de la longitude\n",
    "Vous allez refaire le même travail pour la longitude. Dans la même cellule : \n",
    "* extraire les caractères de longitude de la variable `trame` à partir de leurs rangs, puis l'affecter à la variable `longitude` : faire `longitude = trame[debut:fin]` \n",
    "* afficher `longitude`\n",
    "* traiter la variable longitude avec la fonction `conversion_base10(longitude)` puis l'affecter à la variable `lon`\n",
    "* afficher `lon`"
   ]
  },
  {
   "cell_type": "code",
   "execution_count": 16,
   "metadata": {},
   "outputs": [
    {
     "name": "stdout",
     "output_type": "stream",
     "text": [
      "0714.9095\n",
      "7.248491666666666\n"
     ]
    }
   ],
   "source": [
    "longitude = trame[30:39]\n",
    "print(longitude)\n",
    "lon = conversion_base10(longitude)\n",
    "print(lon)"
   ]
  },
  {
   "cell_type": "markdown",
   "metadata": {},
   "source": [
    "## Vérification\n",
    "Lorsque vous êtes satisfaits du résultat, executez la cellule suivante pour afficher un marqueur sur la carte, qui sera géolocalisé à partir de votre latitude et longitude...\n",
    "\n",
    "Si cela ne fonctionne pas, enlever le caractère # de la premiere ligne pour charger la librairie *folium*. Puis executer et attendre le chargement. Pour la suite, si vous executez à nouveau cette cellule, il ne sera plus necessaire de charger cette librairie (remettre le caractère `#` au debut)"
   ]
  },
  {
   "cell_type": "code",
   "execution_count": 18,
   "metadata": {},
   "outputs": [
    {
     "data": {
      "text/html": [
       "<div style=\"width:100%;\"><div style=\"position:relative;width:100%;height:0;padding-bottom:60%;\"><iframe src=\"data:text/html;charset=utf-8;base64,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\" style=\"position:absolute;width:100%;height:100%;left:0;top:0;border:none !important;\" allowfullscreen webkitallowfullscreen mozallowfullscreen></iframe></div></div>"
      ],
      "text/plain": [
       "<folium.folium.Map at 0x1152de588>"
      ]
     },
     "metadata": {},
     "output_type": "display_data"
    }
   ],
   "source": [
    "#!pip install folium\n",
    "import folium\n",
    "carte = folium.Map(location=[lat,lon], zoom_start=10)\n",
    "folium.Marker([lat,lon]).add_to(carte)\n",
    "display(carte)"
   ]
  },
  {
   "cell_type": "code",
   "execution_count": null,
   "metadata": {},
   "outputs": [],
   "source": []
  }
 ],
 "metadata": {
  "kernelspec": {
   "display_name": "Python 3",
   "language": "python",
   "name": "python3"
  },
  "language_info": {
   "codemirror_mode": {
    "name": "ipython",
    "version": 3
   },
   "file_extension": ".py",
   "mimetype": "text/x-python",
   "name": "python",
   "nbconvert_exporter": "python",
   "pygments_lexer": "ipython3",
   "version": "3.7.1"
  }
 },
 "nbformat": 4,
 "nbformat_minor": 2
}
