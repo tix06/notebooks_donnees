{
 "cells": [
  {
   "cell_type": "markdown",
   "metadata": {},
   "source": [
    "# NMEA : des données structurées\n",
    "\n",
    "## Principe et objectifs\n",
    "Lors de la séance précedente, nous avons découvert que les programmes échangent des données *structurées* : Le logiciel qui met en forme les données issues des satellites GPS fabrique une trame NMEA, dans laquelle les différents champs sont séparés par une virgule.\n",
    "\n",
    "Cette séparation des données s'appelle : comma separated value (csv). \n",
    "\n",
    "Le format CSV permet de stocker les informations dans un ordre précis, ligne par ligne. Le fichier de données csv peut alors être facilement ouvert avec un tableur (ou être sauvegardé en `.csv` à partir d'un tableur : \n",
    "\n",
    "![exemple de fichier csv](exemple_csv.png)\n",
    "\n",
    "Un caractère particulier – généralement la virgule – sert à séparer les différents champs. \n",
    "\n",
    "Une librairie Python peut être utilisée pour découper ces informations et les mettre sous forme de liste.\n",
    "Ce traitement sera plus adapté que celui vu la semaine dernière (découpage de la chaine de caractères par le n° de rang).\n",
    "\n",
    "## librairies utilisées \n",
    "* folium (pour la creation de carte openstreetmap)\n",
    "* csv (apporte la fonction `reader()` pour le decoupage d'une ligne en csv.\n",
    "\n",
    "## Que contient la trame NMEA ?\n",
    "Parmi les différentes lignes constituant la trame, l'une d'entre elles débute par les symboles $GPGGA\n",
    "\n",
    "Les données sont mises dans un format particulier expliqué ici : \n",
    "\n",
    "![trame NMEA](exemple_trame.png)\n",
    "\n",
    "\n",
    "\n",
    "\n",
    "<TABLE width=100% border=0>\n",
    "<TR> \n",
    "<TD width=15%>$GPGGA</TD> \n",
    "<TD width=2%>:</TD> \n",
    "<TD>Type de trame</TD>\n",
    "</TR> \n",
    "<TR> \n",
    "<TD width=15%>4836.5375,N</TD> \n",
    "<TD width=2%>:</TD> \n",
    "<TD>Latitude 48,608958° Nord = 48°36'32.25\" Nord</TD>\n",
    "</TR> \n",
    "<TR> \n",
    "<TD width=15%></TD> \n",
    "<TD width=2%></TD>\n",
    "<TD>car le renseignement donné initialement est sous la forme DDMM.MMMM soit : 48°36,5375’</TD>\n",
    "</TR> \n",
    "<TR> \n",
    "<TD width=15%></TD> \n",
    "<TD width=2%></TD>\n",
    "<TD>en base 10 : 36,5375’ = 36,5375 / 60 ° = 0,608958 °</TD>\n",
    "</TR> \n",
    "<TD width=15%></TD> \n",
    "<TD width=2%></TD>\n",
    "<TD>en base 60 : 36,5375’ = 36’ + 0,5375 x 60’’ = 36'32.25\"</TD>\n",
    "</TR>\n",
    "<TR> \n",
    "<TD width=15%>00740.9373,E</TD> \n",
    "<TD width=2%>:</TD> \n",
    "<TD>Longitude 7,682288° Est = 7°40'56.238\" Est</TD>\n",
    "</TR> \n",
    "</TABLE></CENTER>\n",
    "\n",
    "**Remarque importante sur le format numérique :**\n",
    "La valeur numérique recherchée est celle de la latitude et de la longitude du lieu.\n",
    "\n",
    "Ces valeurs sont mises sous la forme **DDMM.MMMM** : \n",
    "\n",
    "lorsque l'on lit 4836.5375, la valeur doit être comprise comme  : 48°36,5375'\n",
    "\n",
    "c'est à dire : \n",
    "- 48°\n",
    "- 36,5375 minutes d'arc\n",
    "\n",
    "## Traitement des trames NMEA sous forme de chaine de caractère\n",
    "Lors de la dernière séance, nous avons découpé le fichier en chaines de caractères.\n",
    "Chaque ligne du fichier `nmea.log` a été mise dans la liste `lignes` \n",
    "\n",
    "Pour acceder à la ligne n°2, par exemple, il faut écrire : `lignes[1]` \n",
    "\n",
    "Le script suivant permet d'afficher tous les éléments de la liste `lignes` grâce à la boucle bornée `for i,ligne in enumerate(lignes):` \n",
    "\n",
    "**executer la cellule suivante et repérer la trame $GPGGA que vous allez exploiter**"
   ]
  },
  {
   "cell_type": "code",
   "execution_count": 1,
   "metadata": {},
   "outputs": [
    {
     "name": "stdout",
     "output_type": "stream",
     "text": [
      "lignes[0] \n",
      "$GPGSA,A,3,01,02,03,04,05,06,07,08,09,10,11,12,2.2,2.0,0.8*3b\n",
      "\n",
      "lignes[1] \n",
      "$GPGSV,3,1,12,01,45,045,50,02,45,045,50,03,45,045,50,04,45,045,50*7c\n",
      "\n",
      "lignes[2] \n",
      "$GPGSV,3,2,12,05,45,045,50,06,45,045,50,07,45,045,50,08,45,045,50*77\n",
      "\n",
      "lignes[3] \n",
      "$GPGSV,3,3,12,09,45,045,50,10,45,045,50,11,45,045,50,12,45,045,50*71\n",
      "\n",
      "lignes[4] \n",
      "$GPRMC,111038.00,A,4341.9791,N,714.9095,E,0.0,233.7,071019,0.0,E,A*37\n",
      "\n",
      "lignes[5] \n",
      "$GPVTG,233.7,T,0.0,M,0.0,N,0.0,K*4b\n",
      "\n",
      "lignes[6] \n",
      "$GPGGA,111038.00,4341.9791,N,00714.9095,E,12,12,2.0,38.8,M,0.0,M,0.0,0000*7b\n",
      "\n",
      "lignes[7] \n",
      "$GPGSA,A,3,01,02,03,04,05,06,07,08,09,10,11,12,2.2,2.0,0.8*3b\n",
      "\n",
      "lignes[8] \n",
      "$GPGSV,3,1,12,01,45,045,50,02,45,045,50,03,45,045,50,04,45,045,50*7c\n",
      "\n",
      "lignes[9] \n",
      "$GPGSV,3,2,12,05,45,045,50,06,45,045,50,07,45,045,50,08,45,045,50*77\n",
      "\n",
      "lignes[10] \n",
      "$GPGSV,3,3,12,09,45,045,50,10,45,045,50,11,45,045,50,12,45,045,50*71\n",
      "\n",
      "lignes[11] \n",
      "$GPRMC,111039.00,A,4341.9809,N,714.9067,E,0.0,233.7,071019,0.0,E,A*35\n",
      "\n",
      "lignes[12] \n",
      "$GPVTG,233.7,T,0.0,M,0.0,N,0.0,K*4b\n",
      "\n",
      "lignes[13] \n",
      "$GPGGA,111039.00,4341.9809,N,00714.9067,E,12,12,2.0,38.6,M,0.0,M,0.0,0000*77\n",
      "\n",
      "lignes[14] \n",
      "$GPGSA,A,3,01,02,03,04,05,06,07,08,09,10,11,12,2.2,2.0,0.8*3b\n",
      "\n",
      "lignes[15] \n",
      "$GPGSV,3,1,12,01,45,045,50,02,45,045,50,03,45,045,50,04,45,045,50*7c\n",
      "\n",
      "lignes[16] \n",
      "$GPGSV,3,2,12,05,45,045,50,06,45,045,50,07,45,045,50,08,45,045,50*77\n",
      "\n",
      "lignes[17] \n",
      "$GPGSV,3,3,12,09,45,045,50,10,45,045,50,11,45,045,50,12,45,045,50*71\n",
      "\n",
      "lignes[18] \n",
      "$GPRMC,111040.00,A,4341.9809,N,714.9067,E,0.0,234.8,071019,0.0,E,A*33\n",
      "\n",
      "lignes[19] \n",
      "$GPVTG,234.8,T,0.0,M,0.0,N,0.0,K*43\n",
      "\n",
      "lignes[20] \n",
      "$GPGGA,111040.00,4341.9809,N,00714.9067,E,12,12,2.0,38.7,M,0.0,M,0.0,0000*78\n",
      "\n",
      "lignes[21] \n",
      "$GPGSA,A,3,01,02,03,04,05,06,07,08,09,10,11,12,2.2,2.0,0.8*3b\n",
      "\n",
      "lignes[22] \n",
      "$GPGSV,3,1,12,01,45,045,50,02,45,045,50,03,45,045,50,04,45,045,50*7c\n",
      "\n",
      "lignes[23] \n",
      "$GPGSV,3,2,12,05,45,045,50,06,45,045,50,07,45,045,50,08,45,045,50*77\n",
      "\n",
      "lignes[24] \n",
      "$GPGSV,3,3,12,09,45,045,50,10,45,045,50,11,45,045,50,12,45,045,50*71\n",
      "\n",
      "lignes[25] \n",
      "$GPRMC,111041.00,A,4341.9809,N,714.9061,E,0.3,313.6,071019,0.0,E,A*3d\n",
      "\n",
      "lignes[26] \n",
      "$GPVTG,313.6,T,0.0,M,0.3,N,0.6,K*4c\n",
      "\n",
      "lignes[27] \n",
      "$GPGGA,111041.00,4341.9809,N,00714.9061,E,12,12,2.0,38.1,M,0.0,M,0.0,0000*79\n",
      "\n",
      "lignes[28] \n",
      "$GPGSA,A,3,01,02,03,04,05,06,07,08,09,10,11,12,2.2,2.0,0.8*3b\n",
      "\n",
      "lignes[29] \n",
      "$GPGSV,3,1,12,01,45,045,50,02,45,045,50,03,45,045,50,04,45,045,50*7c\n",
      "\n",
      "lignes[30] \n",
      "$GPGSV,3,2,12,05,45,045,50,06,45,045,50,07,45,045,50,08,45,045,50*77\n",
      "\n",
      "lignes[31] \n",
      "$GPGSV,3,3,12,09,45,045,50,10,45,045,50,11,45,045,50,12,45,045,50*71\n",
      "\n",
      "lignes[32] \n",
      "$GPRMC,111042.00,A,4341.9809,N,714.9061,E,0.0,313.6,071019,0.0,E,A*3d\n",
      "\n",
      "lignes[33] \n",
      "$GPVTG,313.6,T,0.0,M,0.0,N,0.0,K*49\n",
      "\n",
      "lignes[34] \n",
      "$GPGGA,111042.00,4341.9809,N,00714.9061,E,12,12,2.0,36.8,M,0.0,M,0.0,0000*7d\n",
      "\n",
      "lignes[35] \n",
      "$GPGSA,A,3,01,02,03,04,05,06,07,08,09,10,11,12,2.2,2.0,0.8*3b\n",
      "\n",
      "lignes[36] \n",
      "$GPGSV,3,1,12,01,45,045,50,02,45,045,50,03,45,045,50,04,45,045,50*7c\n",
      "\n",
      "lignes[37] \n",
      "$GPGSV,3,2,12,05,45,045,50,06,45,045,50,07,45,045,50,08,45,045,50*77\n",
      "\n",
      "lignes[38] \n",
      "$GPGSV,3,3,12,09,45,045,50,10,45,045,50,11,45,045,50,12,45,045,50*71\n",
      "\n",
      "lignes[39] \n",
      "$GPRMC,111043.00,A,4341.9809,N,714.9061,E,0.0,313.6,071019,0.0,E,A*3c\n",
      "\n",
      "lignes[40] \n",
      "$GPVTG,313.6,T,0.0,M,0.0,N,0.0,K*49\n",
      "\n",
      "lignes[41] \n",
      "$GPGGA,111043.00,4341.9809,N,00714.9061,E,12,12,2.0,36.0,M,0.0,M,0.0,0000*74\n",
      "\n",
      "lignes[42] \n",
      "$GPGSA,A,3,01,02,03,04,05,06,07,08,09,10,11,12,2.2,2.0,0.8*3b\n",
      "\n",
      "lignes[43] \n",
      "$GPGSV,3,1,12,01,45,045,50,02,45,045,50,03,45,045,50,04,45,045,50*7c\n",
      "\n",
      "lignes[44] \n",
      "$GPGSV,3,2,12,05,45,045,50,06,45,045,50,07,45,045,50,08,45,045,50*77\n",
      "\n",
      "lignes[45] \n",
      "$GPGSV,3,3,12,09,45,045,50,10,45,045,50,11,45,045,50,12,45,045,50*71\n",
      "\n",
      "lignes[46] \n",
      "$GPRMC,111044.00,A,4341.9809,N,714.9061,E,0.0,313.6,071019,0.0,E,A*3b\n",
      "\n",
      "lignes[47] \n",
      "$GPVTG,313.6,T,0.0,M,0.0,N,0.0,K*49\n",
      "\n",
      "lignes[48] \n",
      "$GPGGA,111044.00,4341.9809,N,00714.9061,E,12,12,2.0,36.1,M,0.0,M,0.0,0000*72\n",
      "\n"
     ]
    }
   ],
   "source": [
    "fichier = open('nmea.log','r')\n",
    "\n",
    "lignes = fichier.readlines() \n",
    "     \n",
    "for i,ligne in enumerate(lignes):\n",
    "                  \n",
    "    if ligne !='\\n':  #  tester si la ligne est non vide\n",
    "        print('lignes['+ str(i)+'] \\n'+ ligne)             \n",
    "                 \n",
    "fichier.close()                    \n"
   ]
  },
  {
   "cell_type": "markdown",
   "metadata": {},
   "source": [
    "## utiliser la librairie csv et manipuler une liste\n",
    "### la fonction reader de la librairie csv\n",
    "**executer le script suivant** pour créer l'objet trames qui contient tous les éléments du fichier nmea.log\n",
    "\n",
    "Repérer que la fonction utilisée *reader()* utilise pour paramètre le caractère ','. On pourrait choisir d'autres types de séparateurs, comme ';' par exemple. Mais ici, le fichier nmea.log utilise bien ','.\n",
    "\n",
    "### manipulation d'une liste\n",
    "La boucle bornée `for row in trames: ` a pour rôle de créer une liste `trame` où chaque élément correspond à l'une des lignes du fichier nmea.log. \n",
    "Ces éléments sont ajoutés dans la liste `trame` à l'aide de la fonction `append` \n",
    "\n",
    "Mais à la différence du traitement précédent, ici, chaque élément `trame[i]` est lui même une liste. Ainsi, pour afficher un élément de la liste `trame`, il faut faire `trame[i]`, mais on peut atteindre également chaque élément de `trame[i]` en faisant `trame[i][j]`\n",
    "\n"
   ]
  },
  {
   "cell_type": "code",
   "execution_count": 2,
   "metadata": {},
   "outputs": [],
   "source": [
    "from csv import reader\n",
    "trame = []\n",
    "trames = reader(lignes, delimiter=',')\n",
    "\n",
    "for row in trames:\n",
    "    trame.append(row)"
   ]
  },
  {
   "cell_type": "markdown",
   "metadata": {},
   "source": [
    "### à vous de jouer\n",
    "1. dans la cellule suivante, taper `trame[0]` pour afficher le premier élément de la liste `trame` (correspond à la première ligne du fichier nmea.log\n",
    "2. dans la cellule qui suit, taper `trame[0][0]` pour afficher le premier champs de `trame[0]` : s'agit-il bien de $GPGSA, comme on peut le voir dans la liste des lignes de nmea.log ?\n",
    "3. Modifier alors le contenu des 2 cellules que vous venez d'utiliser pour accéder aux valeurs des coordonnées GPS latitude et longitude indiquées dans le fichier."
   ]
  },
  {
   "cell_type": "code",
   "execution_count": 44,
   "metadata": {},
   "outputs": [
    {
     "data": {
      "text/plain": [
       "['$GPGGA',\n",
       " '111038.00',\n",
       " '4341.9791',\n",
       " 'N',\n",
       " '00714.9095',\n",
       " 'E',\n",
       " '12',\n",
       " '12',\n",
       " '2.0',\n",
       " '38.8',\n",
       " 'M',\n",
       " '0.0',\n",
       " 'M',\n",
       " '0.0',\n",
       " '0000*7b']"
      ]
     },
     "execution_count": 44,
     "metadata": {},
     "output_type": "execute_result"
    }
   ],
   "source": [
    "trame[6]"
   ]
  },
  {
   "cell_type": "code",
   "execution_count": 45,
   "metadata": {},
   "outputs": [
    {
     "data": {
      "text/plain": [
       "'4341.9791'"
      ]
     },
     "execution_count": 45,
     "metadata": {},
     "output_type": "execute_result"
    }
   ],
   "source": [
    "trame[6][2]"
   ]
  },
  {
   "cell_type": "markdown",
   "metadata": {},
   "source": [
    "### transformer la chaine de caractère en un nombre\n",
    "En effet, la valeur retournée par `trame[6][2]` devrait être de la forme : '4341.9791', avec des guillemets. On ne pourra pas faire d'opérations mathématiques dessus, à moins de la transformer en nombre.\n",
    "\n",
    "Il faut utiliser pour cela la fonction float() : \n",
    "par exemple : `float(trame[6][2])` qui devrait renvoyer 4341.9791\n",
    "\n",
    "Deiviser ce résultat par 100 pour avoir la partie entière qui sera constituée uniquement des degrés : `trame[6][2]/100`\n",
    "\n",
    "Mettre le résultat dans la variable `lat` puis afficher le résulat : `print(lat)` "
   ]
  },
  {
   "cell_type": "code",
   "execution_count": 22,
   "metadata": {},
   "outputs": [
    {
     "name": "stdout",
     "output_type": "stream",
     "text": [
      "43.419791\n"
     ]
    }
   ],
   "source": [
    "lat = float(trame[6][2])/100\n",
    "print(lat)"
   ]
  },
  {
   "cell_type": "markdown",
   "metadata": {},
   "source": [
    "Pour conserver les 2 premiers chiffres : extraire la partie entière avec la fonction int():\n",
    "\n",
    "`int(lat)`\n",
    "\n",
    "Mettre le résultat dans la variable `lat_deg` (la partie correspondant aux degrés entiers) puis afficher le résultat"
   ]
  },
  {
   "cell_type": "code",
   "execution_count": 23,
   "metadata": {},
   "outputs": [
    {
     "name": "stdout",
     "output_type": "stream",
     "text": [
      "43\n"
     ]
    }
   ],
   "source": [
    "lat_deg = int(lat)\n",
    "print(lat_deg)"
   ]
  },
  {
   "cell_type": "markdown",
   "metadata": {},
   "source": [
    "Retirer la partie entière de `lat` pour ne conserver que les nombres après la virgule : `lat - lat_deg`\n",
    "\n",
    "Affecter le résultat à la variable `lat_min` et afficher le résultat \n"
   ]
  },
  {
   "cell_type": "code",
   "execution_count": 24,
   "metadata": {},
   "outputs": [
    {
     "name": "stdout",
     "output_type": "stream",
     "text": [
      "0.4197909999999965\n"
     ]
    }
   ],
   "source": [
    "lat_min = lat - lat_deg\n",
    "print(lat_min)"
   ]
  },
  {
   "cell_type": "markdown",
   "metadata": {},
   "source": [
    "Enfin : transformer `lat_min` en une valeur decimale : `lat_min *100 /60` \n",
    "Affecter à nouveau le résultat à `lat_min` . Afficher `lat_min` \n"
   ]
  },
  {
   "cell_type": "code",
   "execution_count": 25,
   "metadata": {},
   "outputs": [
    {
     "name": "stdout",
     "output_type": "stream",
     "text": [
      "0.6996516666666608\n"
     ]
    }
   ],
   "source": [
    "lat_min = lat_min *100 /60\n",
    "print(lat_min)"
   ]
  },
  {
   "cell_type": "markdown",
   "metadata": {},
   "source": [
    "### Reconstituer la valeur numérique\n",
    "\n",
    "- affecter alors à la variable `lat` la nouvelle valeur `lat_deg + lat_min`\n",
    "\n",
    "Afficher la valeur de `lat` "
   ]
  },
  {
   "cell_type": "code",
   "execution_count": 27,
   "metadata": {},
   "outputs": [
    {
     "name": "stdout",
     "output_type": "stream",
     "text": [
      "43.69965166666666\n"
     ]
    }
   ],
   "source": [
    "lat = lat_deg + lat_min\n",
    "print(lat)\n"
   ]
  },
  {
   "cell_type": "markdown",
   "metadata": {},
   "source": [
    "### Pour aller plus loin (partie facultative...mais conseillée)\n",
    "Vous allez écrire une fonction appelée `conversion_base10(latlon)` qui devra transfromer la chaine de caractère extraite de la trame NMEA (chaine de caractères 'ddmm.mmmm') en une valeur décimale. Le traitement sera identique à celui que vous avez réalisé. On donne l'algorithme de cette fonction : \n",
    "```\n",
    "fonction conversion_base10(latlon):\n",
    "    l ← flottant(latlon)/100\n",
    "    l_deg ← entier(l)\n",
    "    l_min ← l - l_deg\n",
    "    l_min ← l_min*100/60\n",
    "    l ← l_deg + l_min\n",
    "    retourne l\n",
    "```"
   ]
  },
  {
   "cell_type": "code",
   "execution_count": null,
   "metadata": {},
   "outputs": [],
   "source": []
  },
  {
   "cell_type": "markdown",
   "metadata": {},
   "source": [
    "## Faire le même travail pour la longitude. \n",
    "Créer les variables lon, lon_deg et lon_min à partir du fichier nmea.log"
   ]
  },
  {
   "cell_type": "code",
   "execution_count": 28,
   "metadata": {},
   "outputs": [
    {
     "name": "stdout",
     "output_type": "stream",
     "text": [
      "7.248491666666666\n"
     ]
    }
   ],
   "source": [
    "lon = float(trame[6][4])/100\n",
    "lon_deg = int(lon)\n",
    "lon_min = lon - lon_deg\n",
    "lon_min = lon_min *100 /60\n",
    "lon = lon_deg + lon_min\n",
    "print(lon)"
   ]
  },
  {
   "cell_type": "markdown",
   "metadata": {},
   "source": [
    "## Vérification\n",
    "Pensez à vérifier vos résultats en affichant avec `print()` les valeurs de chacune des variables (lat, lon, lat_deg, lat_min...)\n",
    "\n",
    "Lorsque vous êtes satisfaits du résultat, executez la cellule suivante pour afficher un marqueur sur la carte, qui sera géolocalisé à partir de votre latitude et longitude...\n",
    "\n",
    "Remarque : lors de la permière execution du code suivant, il peut être utile d'enlever le # au debut de la première ligne afin de charger la librairie folium.\n",
    "\n",
    "Remettre alors le commentaire pour les prochaines fois où vous executez ce code (il n'est pas necessaire de recharger cette librairie une deuxieme fois au cours de la même session)"
   ]
  },
  {
   "cell_type": "code",
   "execution_count": 31,
   "metadata": {},
   "outputs": [
    {
     "data": {
      "text/html": [
       "<div style=\"width:100%;\"><div style=\"position:relative;width:100%;height:0;padding-bottom:60%;\"><iframe src=\"data:text/html;charset=utf-8;base64,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\" style=\"position:absolute;width:100%;height:100%;left:0;top:0;border:none !important;\" allowfullscreen webkitallowfullscreen mozallowfullscreen></iframe></div></div>"
      ],
      "text/plain": [
       "<folium.folium.Map at 0x11b934ba8>"
      ]
     },
     "metadata": {},
     "output_type": "display_data"
    }
   ],
   "source": [
    "#!pip install folium\n",
    "import folium\n",
    "carte = folium.Map(location=[lat,lon], zoom_start=10)\n",
    "folium.Marker([lat,lon]).add_to(carte)\n",
    "display(carte)"
   ]
  },
  {
   "cell_type": "code",
   "execution_count": null,
   "metadata": {},
   "outputs": [],
   "source": []
  }
 ],
 "metadata": {
  "kernelspec": {
   "display_name": "Python 3",
   "language": "python",
   "name": "python3"
  },
  "language_info": {
   "codemirror_mode": {
    "name": "ipython",
    "version": 3
   },
   "file_extension": ".py",
   "mimetype": "text/x-python",
   "name": "python",
   "nbconvert_exporter": "python",
   "pygments_lexer": "ipython3",
   "version": "3.7.1"
  }
 },
 "nbformat": 4,
 "nbformat_minor": 2
}
