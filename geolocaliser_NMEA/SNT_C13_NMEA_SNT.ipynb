{
 "cells": [
  {
   "cell_type": "markdown",
   "metadata": {},
   "source": [
    "# La trame NMEA\n",
    "## Objectifs\n",
    "Comprendre ce qu’est une trame NMEA : une suite de caractères mis dans un format particulier (normalisé) pour permettre un échange entre systèmes et logiciels. Exploiter la trame obtenue pour réaliser une carte personnalisée.\n",
    "Manipuler une chaine de caractères. Extraire des informations.\n",
    "\n",
    "## Principe \n",
    "Lorsqu’un récepteur GPS reçoit une information, il la transmet (au smartphone, à l’ordinateur auquel il est connecté, à l’interface gps de voiture) à l’aide d’une « phrase » dont la forme est strictement codifiée. On appelle cette « phrase » une trame.\n",
    "\n",
    "![système et trame GPS](docs/satellites.png)\n",
    "\n",
    "## Recuperer votre propre trame NMEA (partie qui ne sera pas traitée pendant la séance)\n",
    "Travail personnel en amont : Si possible, installer l’application NMEA Tools sur votre smartphone sur Androïd ou NMEAGps sur iOS.\n",
    "Selon le mobile utilisé, pour enregistrer une série de trames GPS, il faut faire : \n",
    "- Sur Android : *enregistrement* pour démarrer > attendre quelques secondes que le signal se stabilise > *enregistrement* pour arrêter > Choisir *Enregistrer* puis nommer le fichier votre_nom.txt\n",
    "- Sur IOS iphone : attendre que la barre de détection de la position passe au vert puis > Bouton *log* en position *ON* pour démarrer > attendre quelques secondes que le signal soit enregistré > *log* pour arrêter > L’application propose alors de récupérer un fichier nmea.log dans une application (notes, ...) ou de le *partager*.\n",
    "\n",
    "\n",
    "## Que contient la trame NMEA ?\n",
    "Parmi les différentes lignes constituant la trame, l'une d'entre elles débute par les symboles $GPGGA\n",
    "\n",
    "Les données sont mises dans un format particulier expliqué ici : \n",
    "\n",
    "![trame NMEA](docs/exemple_trame.png)\n",
    "\n",
    "\n",
    "\n",
    "**Remarque importante sur le format numérique :**\n",
    "\n",
    "La valeur numérique recherchée est celle de la latitude et de la longitude du lieu : \n",
    "\n",
    "![detail NMEA](docs/detailNMEA.png)\n",
    "\n",
    "Ces valeurs sont mises sous la forme **DDMM.MMMM** : \n",
    "\n",
    "lorsque l'on lit 4836.5375, la valeur doit être comprise comme  : 48°36,5375'\n",
    "\n",
    "c'est à dire : \n",
    "- 48°\n",
    "- 36,5375 minutes d'arc\n",
    "\n",
    "en base 10 : 36.5375’ = 36.5375 / 60 ° = 0.608958 °\n",
    "\n",
    "La valeur correspondante est alors 48.608958°\n",
    "\n",
    "Cette conversion sera réalisée par la fonction `conversion_base10()` \n",
    "\n",
    "**Executer la cellule suivante** pour la charger en mémoire : "
   ]
  },
  {
   "cell_type": "code",
   "execution_count": 9,
   "metadata": {},
   "outputs": [],
   "source": [
    "def conversion_base10(latlon):\n",
    "    l = float(latlon)/100\n",
    "    l_deg = int(l)\n",
    "    l_min = l - l_deg\n",
    "    l_min = l_min*100/60\n",
    "    l = l_deg + l_min\n",
    "    return l"
   ]
  },
  {
   "cell_type": "markdown",
   "metadata": {},
   "source": [
    "## Travail\n",
    "\n",
    "la trame NMEA est fournie dans votre dossier notebooks. Celle ci a été capturée par votre professeur, qui l'a intégrée dans votre dossier notebooks\n",
    "\n",
    "### lecture du fichier nmea.log\n",
    "- **executer la cellule suivante** \n",
    "- Repérer la première ligne qui commence par `$GPGGA` et noter le numéro de ligne\n",
    "\n"
   ]
  },
  {
   "cell_type": "code",
   "execution_count": null,
   "metadata": {},
   "outputs": [],
   "source": [
    "fichier = open('docs/nmea.log','r')\n",
    "\n",
    "lignes = fichier.readlines() \n",
    "     \n",
    "for i,ligne in enumerate(lignes):\n",
    "                  \n",
    "    if ligne !='\\n':  #  tester si la ligne est non vide\n",
    "        print('lignes['+ str(i)+'] \\n'+ ligne)             \n",
    "                 \n",
    "fichier.close()                    \n"
   ]
  },
  {
   "cell_type": "markdown",
   "metadata": {},
   "source": [
    "- créer une variable `i` qui contiendra le numéro de la ligne"
   ]
  },
  {
   "cell_type": "code",
   "execution_count": 4,
   "metadata": {},
   "outputs": [],
   "source": [
    "i = "
   ]
  },
  {
   "cell_type": "markdown",
   "metadata": {},
   "source": [
    "- afficher la ligne extraite de la trame NMEA : `print(lignes[i])` \n",
    "- affecter `lignes[i]` à la variable `trame`"
   ]
  },
  {
   "cell_type": "code",
   "execution_count": null,
   "metadata": {},
   "outputs": [],
   "source": [
    "print(lignes[\n",
    "trame = lignes["
   ]
  },
  {
   "cell_type": "markdown",
   "metadata": {},
   "source": [
    "### sélectionner des caractères \n",
    "Une chaine de caractère peut être manipulée comme une liste en python. Ainsi, chaque caractère occupe un rang. Le premier caractère est le rang zero 0.\n",
    "\n",
    "Pour extraire une série de caractères d'une variable, on ajoute [rang debut : rang fin+1] à la suite du nom de cette variable.\n",
    "\n",
    "Par exemple : Pour extraire le nom 'boby' de la chaine `titre = 'boby joe roi des mers'`, on fait : \n",
    "titre[0:4]\n",
    "\n",
    "Testez le : \n",
    "- executez la cellule suivante\n",
    "- puis extraire 'joe' de la chaine `titre` en écrivant `print(titre[rang debut : rang fin+1]` (remplacer rang debut : rang fin+1 par des valeurs numériques)"
   ]
  },
  {
   "cell_type": "code",
   "execution_count": 1,
   "metadata": {},
   "outputs": [],
   "source": [
    "titre = 'boby joe roi des mers'\n",
    "print(titre["
   ]
  },
  {
   "cell_type": "markdown",
   "metadata": {},
   "source": [
    "### sélectionner les caractères de positionnement\n",
    "**Selection de l'heure :**\n",
    "On souhaite afficher les caractères relatifs à l'heure : \n",
    "On rappelle que le premier caractère `$` a le rang zero 0, le suivant `G` le rang 1, etc...\n",
    "\n"
   ]
  },
  {
   "cell_type": "markdown",
   "metadata": {},
   "source": [
    "pour extraire l\\'heure de la variable `trame` , on fait : `trame[7:16]` \n",
    "- afficher la variable `trame`\n",
    "- Puis afficher `trame[7:16]` "
   ]
  },
  {
   "cell_type": "code",
   "execution_count": null,
   "metadata": {},
   "outputs": [],
   "source": [
    "print(trame)\n",
    "trame[7:"
   ]
  },
  {
   "cell_type": "markdown",
   "metadata": {},
   "source": [
    "**Selection de la latitude :**\n",
    "- dans la variable trame, calculer le rang des caractères que vous souhaitez extraire pour la latitude (N) :  \n",
    "Procéder de la même manière que pour l'heure pour extraire cette fois les 9 caractères de la latitude contenus dans cette trame qui commencent par 43... : "
   ]
  },
  {
   "cell_type": "code",
   "execution_count": 1,
   "metadata": {},
   "outputs": [],
   "source": [
    "trame[17:"
   ]
  },
  {
   "cell_type": "markdown",
   "metadata": {},
   "source": [
    "- affecter alors ce resultat à la variable `latitude` "
   ]
  },
  {
   "cell_type": "code",
   "execution_count": 10,
   "metadata": {},
   "outputs": [],
   "source": [
    "latitude = "
   ]
  },
  {
   "cell_type": "markdown",
   "metadata": {},
   "source": [
    "## utiliser la fonction conversion_base10\n",
    "Le format de la variable latitude ne permet pas de l'utiliser pour la géolocalisation. Il faut le transformer avec la fonction `conversion_base10(latitude)` chargée plus haut.\n",
    "Executer la cellule suivante pour affecter le résultat du calcul par cette fonction à la variable `lat` et afficher la valeur de `lat`: "
   ]
  },
  {
   "cell_type": "code",
   "execution_count": null,
   "metadata": {},
   "outputs": [],
   "source": [
    "lat = conversion_base10(latitude)\n",
    "print("
   ]
  },
  {
   "cell_type": "markdown",
   "metadata": {},
   "source": [
    "Que remarquez vous à propos de cette nouvelle valeur ? Est elle exactement identique à la variable `latitude` ? Quelles sont les différences ? (repondre directement dans la cellule suivante)"
   ]
  },
  {
   "cell_type": "markdown",
   "metadata": {},
   "source": []
  },
  {
   "cell_type": "markdown",
   "metadata": {},
   "source": [
    "### Traitement de la longitude\n",
    "Vous allez refaire le même travail pour la longitude. Dans la même cellule : \n",
    "* extraire les caractères de longitude de la variable `trame` à partir de leurs rangs, puis l'affecter à la variable `longitude` : faire `longitude = trame[debut:fin]` \n",
    "* afficher `longitude`\n",
    "* traiter la variable longitude avec la fonction `conversion_base10(longitude)` puis l'affecter à la variable `lon`\n",
    "* afficher `lon`"
   ]
  },
  {
   "cell_type": "code",
   "execution_count": 2,
   "metadata": {},
   "outputs": [],
   "source": [
    "longitude = \n",
    "print(\n",
    "lon = \n",
    "print("
   ]
  },
  {
   "cell_type": "markdown",
   "metadata": {},
   "source": [
    "## Vérification\n",
    "Lorsque vous êtes satisfaits du résultat, executez la cellule suivante pour afficher un marqueur sur la carte, qui sera géolocalisé à partir de votre latitude et longitude...\n",
    "\n",
    "Si cela ne fonctionne pas, enlever le caractère # de la premiere ligne pour charger la librairie *folium*. Puis executer et attendre le chargement. Pour la suite, si vous executez à nouveau cette cellule, il ne sera plus necessaire de charger cette librairie (remettre le caractère `#` au debut)"
   ]
  },
  {
   "cell_type": "code",
   "execution_count": null,
   "metadata": {},
   "outputs": [],
   "source": [
    "#!pip install folium\n",
    "import folium\n",
    "carte = folium.Map(location=[lat,lon], zoom_start=10)\n",
    "folium.Marker([lat,lon]).add_to(carte)\n",
    "display(carte)"
   ]
  },
  {
   "cell_type": "code",
   "execution_count": null,
   "metadata": {},
   "outputs": [],
   "source": []
  }
 ],
 "metadata": {
  "kernelspec": {
   "display_name": "Python 3",
   "language": "python",
   "name": "python3"
  },
  "language_info": {
   "codemirror_mode": {
    "name": "ipython",
    "version": 3
   },
   "file_extension": ".py",
   "mimetype": "text/x-python",
   "name": "python",
   "nbconvert_exporter": "python",
   "pygments_lexer": "ipython3",
   "version": "3.7.1"
  }
 },
 "nbformat": 4,
 "nbformat_minor": 2
}
