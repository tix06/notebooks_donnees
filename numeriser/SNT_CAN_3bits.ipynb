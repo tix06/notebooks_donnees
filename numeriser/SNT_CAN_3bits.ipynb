{
 "cells": [
  {
   "cell_type": "markdown",
   "metadata": {},
   "source": [
    "# Prise en main du notebook\n",
    "* L'environnement que vous utilisez est un notebook ipython\n",
    "* Pour executer des scripts python, cliquer dans la cellule pour la selectionner, et appuyer sur > executer\n",
    "> Si vous devez modifier le document : pensez à ENREGISTRER (Save as..) "
   ]
  },
  {
   "cell_type": "markdown",
   "metadata": {},
   "source": [
    "Le programme que vous allez compléter utilise une *fonction* en python.\n",
    "Une fonction execute un bloc de code qui dépend d'un ou plusieurs paramètres (mis entre parenthèses). Il faut appeller la fonction pour qu'elle s'execute. \n",
    "\n",
    "Souvent, la fonction retourne une valeur (avec l'instruction `return`)\n",
    "\n",
    "Exemple : \n",
    "\n",
    "La fonction suivante permet de calculer l'aire d'un rectangle de côtés a et b : \n",
    "On la déclare avec l'instruction `def` qui doit être suivi du nom de la fonction, ici `aire`.\n",
    "On met les paramètres a et b entre parenthèses : \n",
    "\n",
    "`def aire(a,b) :`\n",
    "\n",
    "\n",
    "On ajoute `:` pour préciser que ce qui va suivre est le bloc de code de cette fonction : \n",
    "`  return a*b`\n",
    "\n",
    "Ce bloc est *indenté*, c'est à dire qu'il est écrit avec un décalage de 4 espaces du bord gauche.\n",
    "\n",
    "Mettez vous dans la cellule suivante (cliquer à l'intérieur) pour la selectionner. Faire *Executer*. Il ne se passe rien en apparence. Mais cela a suffit pour charger la fonction en mémoire."
   ]
  },
  {
   "cell_type": "code",
   "execution_count": 17,
   "metadata": {},
   "outputs": [],
   "source": [
    "def aire(a,b):\n",
    "    return a*b    "
   ]
  },
  {
   "cell_type": "markdown",
   "metadata": {},
   "source": [
    "Pour utiliser la fonction, pour calculer par exemple l'aire d'un rectangle de côtés 3 et 4 : taper `aire(3,4)` dans la cellule suivante. Selectionnez la et executez."
   ]
  },
  {
   "cell_type": "code",
   "execution_count": null,
   "metadata": {},
   "outputs": [],
   "source": []
  },
  {
   "cell_type": "markdown",
   "metadata": {},
   "source": [
    "# Programme de conversion analogique - numerique\n",
    "Le bloc de code peut contenir plusieurs lignes. Celles ci doivent être égalelement *indentés* pour faire partie du même bloc.\n",
    "On peut y mettre alors tous les ingredients fournis par le langage python, comme des *conditions*, des *boucles*, des *calculs sur des variables*, ..."
   ]
  },
  {
   "cell_type": "code",
   "execution_count": 3,
   "metadata": {},
   "outputs": [],
   "source": [
    "def CAN(U):\n",
    "    D=0\n",
    "    if U>=7:\n",
    "        D = 7\n",
    "    if (U>=6) & (U<7):\n",
    "        D = 6\n",
    "    # ajouter ici les autres conditions sur U\n",
    "    # et les sorties D = 5, D = ..., D = 0\n",
    "    return D"
   ]
  },
  {
   "cell_type": "markdown",
   "metadata": {},
   "source": [
    "La fonction `CAN` doit retourner la valeur D qui est le résultat de la conversion de U (une tension analogique) en une valeur numérique D. \n",
    "1. Modifier le bloc de code en ajoutant les lignes necessaires pour réaliser la conversion en un nombre entier de 0 à 7 (codage sur 3 bits).\n",
    "2. Selectionner la cellule contenant la fonction CAN. Executer \n",
    "3. Dans la cellule suivante, appeler la fonction et convertir les valeurs de U selon l'énoncé. Relever à la main les valeurs retournée."
   ]
  },
  {
   "cell_type": "code",
   "execution_count": null,
   "metadata": {},
   "outputs": [],
   "source": [
    "\n",
    "    \n",
    "    "
   ]
  }
 ],
 "metadata": {
  "kernelspec": {
   "display_name": "Python 3",
   "language": "python",
   "name": "python3"
  },
  "language_info": {
   "codemirror_mode": {
    "name": "ipython",
    "version": 3
   },
   "file_extension": ".py",
   "mimetype": "text/x-python",
   "name": "python",
   "nbconvert_exporter": "python",
   "pygments_lexer": "ipython3",
   "version": "3.7.1"
  }
 },
 "nbformat": 4,
 "nbformat_minor": 2
}
