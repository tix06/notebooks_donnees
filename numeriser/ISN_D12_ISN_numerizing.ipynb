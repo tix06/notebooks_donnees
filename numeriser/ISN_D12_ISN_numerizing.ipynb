{
 "cells": [
  {
   "attachments": {
    "D12_image.jpg": {
     "image/jpeg": "[encoded data removed]"
    }
   },
   "cell_type": "markdown",
   "metadata": {},
   "source": [
    "# notebook sur le jeu de cartes numerizing\n",
    "\n",
    "![D12_image.jpg](attachment:D12_image.jpg)\n",
    "\n",
    "## Principe\n",
    "Le but de ce jeu est de s'approprier la notion de *numération de position*.\n",
    "En programmant l'algorithme de comparaison de 2 cartes du jeu, vous aller apprendre à : \n",
    "\n",
    "* programmer des fonctions\n",
    "* manipuler des variables, et des tuples (une collection finie de variables)\n",
    "* utiliser des structures conditionnelles\n",
    "\n",
    "\n",
    "## comparer deux nombres\n",
    "Pour démarrer, nous allons étudier une première fonction, appelée *ordonne()*, qui va comparer 2 variables et les ordonner : le couple sera affiché avec la variable de plus petite valeur, puis la plus grande."
   ]
  },
  {
   "cell_type": "code",
   "execution_count": 1,
   "metadata": {},
   "outputs": [],
   "source": [
    "def ordonne(a,b):\n",
    "    if a>b:\n",
    "        return b,a\n",
    "    else:\n",
    "        return a,b"
   ]
  },
  {
   "cell_type": "markdown",
   "metadata": {},
   "source": [
    "**tester la fonction avec les couples de valeurs a et b de votre choix** (on peut modifier les paramètres de la fonction)"
   ]
  },
  {
   "cell_type": "code",
   "execution_count": 2,
   "metadata": {},
   "outputs": [
    {
     "data": {
      "text/plain": [
       "(3, 4)"
      ]
     },
     "execution_count": 2,
     "metadata": {},
     "output_type": "execute_result"
    }
   ],
   "source": [
    "ordonne(4,3)"
   ]
  },
  {
   "cell_type": "markdown",
   "metadata": {},
   "source": [
    "## comparer 2 cartes du jeu numerizing"
   ]
  },
  {
   "cell_type": "code",
   "execution_count": 3,
   "metadata": {},
   "outputs": [],
   "source": [
    "# cellule à executer pour charger les tuples carte1 et carte2\n",
    "# cette ligne commence par le symbole # : il s'agit d'un commentaire\n",
    "# Ce sont des lignes qui ne sont pas executées par python mais qui servent de notice\n",
    "# pour celui qui les lira\n",
    "\n",
    "carte1 = (1,3,1,5)\n",
    "carte2 = (1,2,1,4)"
   ]
  },
  {
   "cell_type": "markdown",
   "metadata": {},
   "source": [
    "### Qu'est ce qu'un *tuple* ?\n",
    "un *tuple* est une variable qui présente une collection finie de données. Ici, le tuple est constitué de 4 données numériques, correspondant au nombre de coeurs activés : en haut à gauche, en bas à gauche, en haut à droite, et en bas à droite.\n",
    "La première valeur a le poids relatif le plus élevé, et la dernière, le poids relatif le plus faible (voir règles du jeu)\n",
    "\n",
    "Ainsi, a et b sont des variables simples, et carte1 et carte2 sont des tuples.\n",
    "\n",
    "### Mais comment accède t-on à l'une des valeurs du tuple ?\n",
    "Un tuple peut se manipuler comme une liste : \n",
    "Chaque valeur du tuple occupe un rang particulier : la première valeur occupe le rang 0, la suivante occupe le rang 1, etc...\n",
    "Pour lire la valeur du premier élément de carte1, on fait `carte1[0]`\n",
    "Et pour comparer les valeurs des premiers éléments de carte1 et de carte2, on peut évaluer le résultat des opérations suivantes : \n",
    "`carte1[0] > carte2[0]` ou `carte1[0] < carte2[0]` ou encore `carte1[0] == carte2[0]`\n",
    "\n",
    "### Peut on utiliser une fonction pour réaliser la comparaison de 2 cartes, comme la fonction *ordonne(a,b)* ?\n",
    "Oui, et c'est bien là tout l'intérêt de programmer une fonction pour faire ce travail : on notera c1 et c2 les 2 paramètres de cette fonction. Lors de l'appel de la fonction, il faudra remplacer c1 et c2 par les noms des cartes à comparer et ordonner. On rappelle que c1 et c2 sont alors des tuples (ceux des cartes passés en paramètre).\n",
    "Pour comparer les premiers éléments de chacune des cartes, on utilisera alors les opérations : \n",
    "`c1[0] > c2[0]` ou `c1[0] < c2[0]` ou encore `c1[0] == c2[0]`\n",
    "\n",
    "On donne dans la cellule suivante, une partie du programme de cette fonction. Elle peut renvoyer le bon résultat et classer les 2 cartes proposées pour carte1 et carte2. Mais elle ne retournera pas toujours le bon classement. Pour considérer tous les cas, il faudra que vous complétiez le programme.\n",
    "\n",
    "**Executer la cellule contenant la fonction pour la charger**"
   ]
  },
  {
   "cell_type": "code",
   "execution_count": 9,
   "metadata": {},
   "outputs": [],
   "source": [
    "def ordonne_cartes(c1,c2):\n",
    "    if c1[0] > c2[0]:\n",
    "        return c2,c1\n",
    "    if c1[0] < c2[0]:\n",
    "        return c1,c2\n",
    "    if c1[0] == c2[0]:\n",
    "        if c1[1] > c2[1]:\n",
    "            return c2,c1\n",
    "        if c1[1] < c2[1]:\n",
    "            return c1,c2\n",
    "            # ajouter les lignes ici pour terminer la fonction\n",
    "        return 'non défini'  # ligne à effacer lorsque la fonction est complète\n",
    "        "
   ]
  },
  {
   "cell_type": "markdown",
   "metadata": {},
   "source": [
    "### Executer et tester la fonction avec les tuples carte1 et carte2 (cellule dessous)"
   ]
  },
  {
   "cell_type": "code",
   "execution_count": 10,
   "metadata": {},
   "outputs": [
    {
     "data": {
      "text/plain": [
       "((1, 2, 1, 4), (1, 3, 1, 5))"
      ]
     },
     "execution_count": 10,
     "metadata": {},
     "output_type": "execute_result"
    }
   ],
   "source": [
    "ordonne_cartes(carte1, carte2)"
   ]
  },
  {
   "cell_type": "markdown",
   "metadata": {},
   "source": [
    "### définir de nouvelles cartes dans la cellule ci dessous : par exemple carte3 et carte4"
   ]
  },
  {
   "cell_type": "code",
   "execution_count": null,
   "metadata": {},
   "outputs": [],
   "source": []
  },
  {
   "cell_type": "markdown",
   "metadata": {},
   "source": [
    "#### Appeller à nouveau la fonction ordonne_cartes, mais cette fois, pour ordonner les nouvelles cartes que vous avez créées"
   ]
  },
  {
   "cell_type": "code",
   "execution_count": null,
   "metadata": {},
   "outputs": [],
   "source": []
  }
 ],
 "metadata": {
  "kernelspec": {
   "display_name": "Python 3",
   "language": "python",
   "name": "python3"
  },
  "language_info": {
   "codemirror_mode": {
    "name": "ipython",
    "version": 3
   },
   "file_extension": ".py",
   "mimetype": "text/x-python",
   "name": "python",
   "nbconvert_exporter": "python",
   "pygments_lexer": "ipython3",
   "version": "3.7.1"
  }
 },
 "nbformat": 4,
 "nbformat_minor": 2
}
